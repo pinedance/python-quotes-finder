{
 "cells": [
  {
   "cell_type": "code",
   "execution_count": 10,
   "metadata": {},
   "outputs": [],
   "source": [
    "import itertools\n",
    "from tqdm import tqdm_notebook as tqdm\n",
    "from time import time\n",
    "import random\n",
    "\n",
    "r_a, r_b = range( 1, 10 ), range( 1, 10 )"
   ]
  },
  {
   "cell_type": "code",
   "execution_count": 11,
   "metadata": {},
   "outputs": [
    {
     "name": "stdout",
     "output_type": "stream",
     "text": [
      "0.0\n"
     ]
    }
   ],
   "source": [
    "t_ = time()\n",
    "for i, j in itertools.product( r_a, r_b ) :\n",
    "    i+j\n",
    "print( time() - t_ )"
   ]
  },
  {
   "cell_type": "code",
   "execution_count": 16,
   "metadata": {},
   "outputs": [
    {
     "name": "stdout",
     "output_type": "stream",
     "text": [
      "1 1\n",
      "1 2\n",
      "1 3\n",
      "1 4\n",
      "1 5\n",
      "1 6\n",
      "1 7\n",
      "1 8\n",
      "1 9\n",
      "2 1\n",
      "2 2\n",
      "2 3\n",
      "2 4\n",
      "2 5\n",
      "2 6\n",
      "2 7\n",
      "2 8\n",
      "2 9\n",
      "3 1\n",
      "3 2\n",
      "3 3\n",
      "3 4\n",
      "3 5\n",
      "3 6\n",
      "3 7\n",
      "3 8\n",
      "3 9\n",
      "4 1\n",
      "4 2\n",
      "4 3\n",
      "4 4\n",
      "4 5\n",
      "4 6\n",
      "4 7\n",
      "4 8\n",
      "4 9\n",
      "5 1\n",
      "5 2\n",
      "5 3\n",
      "5 4\n",
      "5 5\n",
      "5 6\n",
      "5 7\n",
      "5 8\n",
      "5 9\n",
      "6 1\n",
      "6 2\n",
      "6 3\n",
      "6 4\n",
      "6 5\n",
      "6 6\n",
      "6 7\n",
      "6 8\n",
      "6 9\n",
      "7 1\n",
      "7 2\n",
      "7 3\n",
      "7 4\n",
      "7 5\n",
      "7 6\n",
      "7 7\n",
      "7 8\n",
      "7 9\n",
      "8 1\n",
      "8 2\n",
      "8 3\n",
      "8 4\n",
      "8 5\n",
      "8 6\n",
      "8 7\n",
      "8 8\n",
      "8 9\n",
      "9 1\n",
      "9 2\n",
      "9 3\n",
      "9 4\n",
      "9 5\n",
      "9 6\n",
      "9 7\n",
      "9 8\n",
      "9 9\n",
      "0.15097832679748535\n",
      "81\n"
     ]
    }
   ],
   "source": [
    "t_ = time()\n",
    "z = 0\n",
    "for i in r_a:\n",
    "    for j in r_b:\n",
    "        print( i,j )\n",
    "        z += 1\n",
    "print( time() - t_ )\n",
    "print(z)"
   ]
  },
  {
   "cell_type": "code",
   "execution_count": 13,
   "metadata": {},
   "outputs": [
    {
     "name": "stdout",
     "output_type": "stream",
     "text": [
      "1 1\n",
      "1 2\n",
      "1 3\n",
      "1 4\n",
      "1 5\n",
      "1 6\n",
      "1 7\n",
      "1 8\n",
      "1 9\n",
      "2 1\n",
      "2 2\n",
      "2 3\n",
      "2 4\n",
      "2 5\n",
      "2 6\n",
      "2 7\n",
      "2 8\n",
      "2 9\n",
      "3 1\n",
      "3 2\n",
      "3 3\n",
      "3 4\n",
      "3 5\n",
      "3 6\n",
      "3 7\n",
      "3 8\n",
      "3 9\n",
      "4 1\n",
      "4 2\n",
      "4 3\n",
      "4 4\n",
      "4 5\n",
      "4 6\n",
      "4 7\n",
      "4 8\n",
      "4 9\n",
      "5 1\n",
      "5 2\n",
      "5 3\n",
      "5 4\n",
      "5 5\n",
      "5 6\n",
      "5 7\n",
      "5 8\n",
      "5 9\n",
      "6 1\n",
      "6 2\n",
      "6 3\n",
      "6 4\n",
      "6 5\n",
      "6 6\n",
      "6 7\n",
      "6 8\n",
      "6 9\n",
      "7 1\n",
      "7 2\n",
      "7 3\n",
      "7 4\n",
      "7 5\n",
      "7 6\n",
      "7 7\n",
      "7 8\n",
      "7 9\n",
      "8 1\n",
      "8 2\n",
      "8 3\n",
      "8 4\n",
      "8 5\n",
      "8 6\n",
      "8 7\n",
      "8 8\n",
      "8 9\n",
      "9 1\n",
      "9 2\n",
      "9 3\n",
      "9 4\n",
      "9 5\n",
      "9 6\n",
      "9 7\n",
      "9 8\n",
      "9 9\n",
      "0.15599894523620605\n"
     ]
    }
   ],
   "source": [
    "t_ = time()\n",
    "for i, j in itertools.product( r_a, r_b ) :\n",
    "    print(i, j)\n",
    "print( time() - t_ )"
   ]
  },
  {
   "cell_type": "code",
   "execution_count": 19,
   "metadata": {},
   "outputs": [
    {
     "name": "stdout",
     "output_type": "stream",
     "text": [
      "1,563,498\n"
     ]
    }
   ],
   "source": [
    "print( \"{:,}\".format(1563498) )"
   ]
  },
  {
   "cell_type": "code",
   "execution_count": 23,
   "metadata": {},
   "outputs": [],
   "source": [
    "import regex as re\n",
    "def strip_nonhanzi( text ):\n",
    "    \n",
    "    # hanzi 범위\n",
    "    cjk_range = \"[\\p{Han}]\"\n",
    "    cjk_range_re = re.compile( cjk_range, re.UNICODE )\n",
    "\n",
    "    non_cjk_range = \"[^\\p{Han}]\"\n",
    "    non_cjk_range_re = re.compile( non_cjk_range, re.UNICODE )\n",
    "\n",
    "    # hanzi 추출\n",
    "    only_hanzi = \"\".join( re.findall( cjk_range_re, text  ) ) \n",
    "    non_hanzi = [ ( m.start(0), m.group(0) ) for m in re.finditer( non_cjk_range_re, text ) ]\n",
    "\n",
    "    return only_hanzi, non_hanzi"
   ]
  },
  {
   "cell_type": "code",
   "execution_count": 31,
   "metadata": {},
   "outputs": [],
   "source": [
    "def generate_text( only_hanzi, non_hanzi ):\n",
    "    \n",
    "    rst = only_hanzi + \"\"\n",
    "    for i, v in non_hanzi:\n",
    "        rst = rst[:i] + v + rst[i:]\n",
    "    \n",
    "    return rst"
   ]
  },
  {
   "cell_type": "code",
   "execution_count": 35,
   "metadata": {},
   "outputs": [
    {
     "name": "stdout",
     "output_type": "stream",
     "text": [
      "陽明脈解篇 第三十\t黃帝問曰 足陽明之脈病, 惡人與火, 聞木音則惕然而驚, 鐘鼓不爲動, 聞木音而驚, 何也? 願聞其故. {n}歧伯對曰 陽明者胃脈也, 胃者土也, 故聞木音而驚者, 土惡木也. {n}帝曰 善. 其惡火, 何也? {n}歧伯曰 陽明主肉, 其脈血氣盛, 邪客之則熱, 熱甚則惡火. {n}帝曰 其惡人何也? {n}歧伯曰 陽明厥則喘而惋, 惋則惡人. {n}帝曰 或喘而死者, 或喘而生者, 何也? {n}歧伯曰 厥逆連藏則死, 連經則生.{n}帝曰 善. 病甚則棄衣而走, 登高而歌, 或至不食數日, 踰垣上屋, 所上之處, 皆非其素所能也, 病反能者何也? {n}歧伯曰 四支者, 諸陽之本也, 陽盛則四支實, 實則能登高也. {n}帝曰 其棄衣而走者, 何也? {n}歧伯曰 熱盛於身, 故棄衣欲走也. {n}帝曰 其妄言罵詈不避親疎而歌者, 何也? {n}歧伯曰 陽盛則使人妄言罵詈不避親疎, 而不欲食, 不欲食, 故妄走也.{n}\n"
     ]
    }
   ],
   "source": [
    "text = \"陽明脈解篇 第三十\t黃帝問曰 足陽明之脈病, 惡人與火, 聞木音則惕然而驚, 鐘鼓不爲動, 聞木音而驚, 何也? 願聞其故. {n}歧伯對曰 陽明者胃脈也, 胃者土也, 故聞木音而驚者, 土惡木也. {n}帝曰 善. 其惡火, 何也? {n}歧伯曰 陽明主肉, 其脈血氣盛, 邪客之則熱, 熱甚則惡火. {n}帝曰 其惡人何也? {n}歧伯曰 陽明厥則喘而惋, 惋則惡人. {n}帝曰 或喘而死者, 或喘而生者, 何也? {n}歧伯曰 厥逆連藏則死, 連經則生.{n}帝曰 善. 病甚則棄衣而走, 登高而歌, 或至不食數日, 踰垣上屋, 所上之處, 皆非其素所能也, 病反能者何也? {n}歧伯曰 四支者, 諸陽之本也, 陽盛則四支實, 實則能登高也. {n}帝曰 其棄衣而走者, 何也? {n}歧伯曰 熱盛於身, 故棄衣欲走也. {n}帝曰 其妄言罵詈不避親疎而歌者, 何也? {n}歧伯曰 陽盛則使人妄言罵詈不避親疎, 而不欲食, 不欲食, 故妄走也.{n}\"\n",
    "print(text)"
   ]
  },
  {
   "cell_type": "code",
   "execution_count": 36,
   "metadata": {},
   "outputs": [
    {
     "name": "stdout",
     "output_type": "stream",
     "text": [
      "陽明脈解篇第三十黃帝問曰足陽明之脈病惡人與火聞木音則惕然而驚鐘鼓不爲動聞木音而驚何也願聞其故歧伯對曰陽明者胃脈也胃者土也故聞木音而驚者土惡木也帝曰善其惡火何也歧伯曰陽明主肉其脈血氣盛邪客之則熱熱甚則惡火帝曰其惡人何也歧伯曰陽明厥則喘而惋惋則惡人帝曰或喘而死者或喘而生者何也歧伯曰厥逆連藏則死連經則生帝曰善病甚則棄衣而走登高而歌或至不食數日踰垣上屋所上之處皆非其素所能也病反能者何也歧伯曰四支者諸陽之本也陽盛則四支實實則能登高也帝曰其棄衣而走者何也歧伯曰熱盛於身故棄衣欲走也帝曰其妄言罵詈不避親疎而歌者何也歧伯曰陽盛則使人妄言罵詈不避親疎而不欲食不欲食故妄走也\n"
     ]
    }
   ],
   "source": [
    "a, b = strip_nonhanzi( text )\n",
    "print(a)"
   ]
  },
  {
   "cell_type": "code",
   "execution_count": 37,
   "metadata": {},
   "outputs": [
    {
     "data": {
      "text/plain": [
       "'陽明脈解篇 第三十\\t黃帝問曰 足陽明之脈病, 惡人與火, 聞木音則惕然而驚, 鐘鼓不爲動, 聞木音而驚, 何也? 願聞其故. {n}歧伯對曰 陽明者胃脈也, 胃者土也, 故聞木音而驚者, 土惡木也. {n}帝曰 善. 其惡火, 何也? {n}歧伯曰 陽明主肉, 其脈血氣盛, 邪客之則熱, 熱甚則惡火. {n}帝曰 其惡人何也? {n}歧伯曰 陽明厥則喘而惋, 惋則惡人. {n}帝曰 或喘而死者, 或喘而生者, 何也? {n}歧伯曰 厥逆連藏則死, 連經則生.{n}帝曰 善. 病甚則棄衣而走, 登高而歌, 或至不食數日, 踰垣上屋, 所上之處, 皆非其素所能也, 病反能者何也? {n}歧伯曰 四支者, 諸陽之本也, 陽盛則四支實, 實則能登高也. {n}帝曰 其棄衣而走者, 何也? {n}歧伯曰 熱盛於身, 故棄衣欲走也. {n}帝曰 其妄言罵詈不避親疎而歌者, 何也? {n}歧伯曰 陽盛則使人妄言罵詈不避親疎, 而不欲食, 不欲食, 故妄走也.{n}'"
      ]
     },
     "execution_count": 37,
     "metadata": {},
     "output_type": "execute_result"
    }
   ],
   "source": [
    "generate_text(a, b)"
   ]
  },
  {
   "cell_type": "code",
   "execution_count": 3,
   "metadata": {},
   "outputs": [
    {
     "data": {
      "text/plain": [
       "[-7, -6, -5, -4, -3, -2, -1]"
      ]
     },
     "execution_count": 3,
     "metadata": {},
     "output_type": "execute_result"
    }
   ],
   "source": [
    "k = [0,1,2,3,4,5,6]\n",
    "l = len(k)\n",
    "\n",
    "[ e-l for e in k ]"
   ]
  },
  {
   "cell_type": "code",
   "execution_count": 2,
   "metadata": {},
   "outputs": [
    {
     "data": {
      "text/plain": [
       "['a', 0, 1, 2, 3, 4, 5, 6]"
      ]
     },
     "execution_count": 2,
     "metadata": {},
     "output_type": "execute_result"
    }
   ],
   "source": [
    "k"
   ]
  },
  {
   "cell_type": "code",
   "execution_count": null,
   "metadata": {},
   "outputs": [],
   "source": []
  }
 ],
 "metadata": {
  "kernelspec": {
   "display_name": "Python 3",
   "language": "python",
   "name": "python3"
  },
  "language_info": {
   "codemirror_mode": {
    "name": "ipython",
    "version": 3
   },
   "file_extension": ".py",
   "mimetype": "text/x-python",
   "name": "python",
   "nbconvert_exporter": "python",
   "pygments_lexer": "ipython3",
   "version": "3.7.3"
  }
 },
 "nbformat": 4,
 "nbformat_minor": 2
}
