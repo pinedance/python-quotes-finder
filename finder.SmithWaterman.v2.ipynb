{
 "cells": [
  {
   "cell_type": "markdown",
   "metadata": {},
   "source": [
    "# 인용 구문 찾기 ( feat. Smith-Waterman )"
   ]
  },
  {
   "cell_type": "markdown",
   "metadata": {},
   "source": [
    "한의학 서적에는 많은 구문들이 상호 인용 관계를 맺고 있다. 이런 인용구문들은 명시적인 경우도 있지만 그렇지 않은 경우도 있다. 후자의 경우 이를 알아차리는 것은 매우 어렵다. 전자의 경우라 하더라도 어디까지 인용되었는지 모호한 경우가 많기 때문에 원문을 찾고 확인해야 하는 경우가 많다. \n",
    "\n",
    "2가지 텍스트가 주어졌을 때, 상호 인용관계를 맺는 구문을 자동으로 찾는 방법을 모색해 보았다. \n",
    "\n",
    "텍스트는 편의상 참조된 텍스트(REF), 참조한 텍스트(TRG)으로 구분할 수 있다. REF는 시대적으로 더 앞선 문헌으로 TRG가 이를 참고하여 구문을 인용할 수 있어야 한다. \n",
    "\n",
    "TRG는 REF의 여러 부분을 인용할 수 있다. 따라서 최종 인용구문 결과에서 TRG의 구절은 중복되는 부분이 있어서는 안되지만, REF의 구절은 중복이 발생할 수도 있다. 중복된 부분은 2번 이상 인용된 부분이다. \n",
    "\n",
    "중복된 부분을 찾는 방법으로 Smith-Waterman 알고리즘을 사용하였다. 글자의 일치, 추가, 삭제에 대한 점수를 부여하여 글자 단위로 상호 비교를 통해 유사한 문자열을 찾는 방법이다. 원하는 결과를 도출할 수 있는 좋은 방법이지만, 글자와 글자를 하나 하나 대조하기 때문에 연산에 많은 시간이 소요된다. "
   ]
  },
  {
   "cell_type": "markdown",
   "metadata": {},
   "source": [
    "# Code"
   ]
  },
  {
   "cell_type": "markdown",
   "metadata": {},
   "source": [
    "## Lib"
   ]
  },
  {
   "cell_type": "code",
   "execution_count": 1,
   "metadata": {},
   "outputs": [],
   "source": [
    "import numpy as np\n",
    "import regex as re\n",
    "from tqdm import tqdm_notebook as tqdm\n",
    "from time import time\n",
    "import random"
   ]
  },
  {
   "cell_type": "markdown",
   "metadata": {},
   "source": [
    "### Operate SmithWaterman Algorithm"
   ]
  },
  {
   "cell_type": "code",
   "execution_count": 2,
   "metadata": {},
   "outputs": [],
   "source": [
    "def build_matrix(a, b, match_score=3, gap_cost=2, debug=False):  \n",
    "    \n",
    "    len_a = len(a)\n",
    "    len_b = len(b)\n",
    "    print( \"* Complexity: {:,} ({:,} × {:,})\".format( len_a * len_b, len_a, len_b ) )\n",
    "    H, P = {}, {}\n",
    "    \n",
    "    if debug:\n",
    "        H_ = np.zeros( ( len_a + 1, len_b + 1), np.int)\n",
    "        P_ = np.zeros( ( len_a + 1, len_b + 1), np.int)\n",
    "    \n",
    "    for i in tqdm( range( 1, len_a+1 ) ):\n",
    "        for j in range( 1, len_b+1 ):\n",
    "            match = H.get( (i - 1, j - 1 ), 0 ) + ( match_score if a[i - 1] == b[j - 1] else - match_score )\n",
    "            delete = H.get( (i - 1, j ), 0 )  - gap_cost\n",
    "            insert = H.get( (i , j - 1 ), 0 )  - gap_cost\n",
    "            values = [ 0, match, delete, insert ]\n",
    "            mx = max( values )\n",
    "            if mx == 0 : continue\n",
    "            argmax = values.index( mx )\n",
    "            H[ (i, j) ] = mx\n",
    "            P[ (i, j) ] = argmax\n",
    "\n",
    "            if debug:\n",
    "                H_[i,j] = mx\n",
    "                P_[i,j] = argmax\n",
    "    \n",
    "    if debug:\n",
    "        print(H_)\n",
    "        print(P_)\n",
    "        \n",
    "    return H, P"
   ]
  },
  {
   "cell_type": "code",
   "execution_count": 3,
   "metadata": {},
   "outputs": [],
   "source": [
    "def traceback( P, xy ):\n",
    "    end_i, end_j = xy\n",
    "    \n",
    "    value = P.get( (end_i, end_j), 0 )\n",
    "    if value == 1 : new_i, new_j = end_i - 1, end_j - 1 \n",
    "    elif value == 2 : new_i, new_j = end_i - 1, end_j \n",
    "    elif value == 3 : new_i, new_j = end_i, end_j - 1 \n",
    "    else: \n",
    "        return end_i, end_j\n",
    "    return traceback( P, (new_i, new_j) )"
   ]
  },
  {
   "cell_type": "code",
   "execution_count": 4,
   "metadata": {},
   "outputs": [],
   "source": [
    "def smith_waterman(a, b, match_score=3, gap_cost=2, min_len=8, debug=False ):\n",
    "    \"\"\"\n",
    "    a : source\n",
    "    b : target\n",
    "    \"\"\"\n",
    "    cutoff = min_len * match_score\n",
    "    print( \"* Build Matrix ... \")\n",
    "    _q = time()\n",
    "    H, P = build_matrix(a, b, match_score, gap_cost, debug=debug )\n",
    "    H_lst = H.items()\n",
    "    H_sorted = sorted( H_lst, key=lambda x: ( x[1], x[0][1] ), reverse=True )\n",
    "    print( \"  ... {:0.3f}\\n\".format( time()-_q ) )\n",
    "    \n",
    "    # get all sets\n",
    "    print( \"* Traceback ... \")\n",
    "    _q = time()\n",
    "    quotes_all = []\n",
    "    for (i, j), value in tqdm(H_sorted):\n",
    "        if value < cutoff : continue\n",
    "        end_i, end_j = i, j\n",
    "        begin_i, begin_j = traceback( P, (end_i, end_j) )\n",
    "        quotes_all.append( ( (begin_i, end_i), (begin_j, end_j) ) )     # string[begin:end]\n",
    "    print( \"  ... {:0.3f}\\n\".format( time()-_q ) )\n",
    "    \n",
    "    # remove overlap ranges\n",
    "    print( \"* Refine outputs ... \")\n",
    "    _q = time()\n",
    "    occupation = [0] * (len(b) + 1)\n",
    "    quotes = []\n",
    "    for elem in tqdm(quotes_all):\n",
    "        (_, _), (b_j, e_j) = elem\n",
    "        if sum( occupation[b_j:e_j] ) > 0: continue\n",
    "        quotes.append( elem )\n",
    "        occupation[b_j:e_j] = [1] * ( e_j - b_j )\n",
    "    print( \"  ... {:0.3f}\\n\".format( time()-_q ) )\n",
    "    print( \"* Complete!\\n \")\n",
    "    return sorted( quotes, key=lambda x: x[1][0] )"
   ]
  },
  {
   "cell_type": "markdown",
   "metadata": {},
   "source": [
    "### Operate Texts"
   ]
  },
  {
   "cell_type": "code",
   "execution_count": 5,
   "metadata": {},
   "outputs": [],
   "source": [
    "def strip_nonhanzi( text ):\n",
    "\n",
    "    # hanzi 범위\n",
    "    cjk_range_pattern = re.compile( \"[\\p{Han}]\", re.UNICODE )\n",
    "    non_cjk_range_pattern = re.compile( \"[^\\p{Han}]\", re.UNICODE )\n",
    "\n",
    "    # hanzi 추출\n",
    "    only_hanzi = \"\".join( re.findall( cjk_range_pattern, text  ) ) \n",
    "    non_hanzi = [ ( m.start(0), m.group(0) ) for m in re.finditer( non_cjk_range_pattern, text ) ]\n",
    "\n",
    "    return only_hanzi, non_hanzi"
   ]
  },
  {
   "cell_type": "code",
   "execution_count": 6,
   "metadata": {},
   "outputs": [],
   "source": [
    "def restore_index( text_han, non_han ):\n",
    "    \n",
    "    idx_list = list( range( len( text_han ) +1 ) )\n",
    "\n",
    "    for j, char in sorted(non_han, key=lambda x: x[0]):\n",
    "        idx_list.insert(j, char)\n",
    "        \n",
    "    return idx_list"
   ]
  },
  {
   "cell_type": "markdown",
   "metadata": {},
   "source": [
    "### Operate Outputs"
   ]
  },
  {
   "cell_type": "code",
   "execution_count": 7,
   "metadata": {},
   "outputs": [],
   "source": [
    "def print_output(a, b, indices ):\n",
    "    \n",
    "    for (i1,i2), (j1,j2) in indices:\n",
    "        print( \"TRG：{:08d}-{:08d}\\t{}\".format( j1, j2, b[j1:j2] ) )\n",
    "        print( \"SRC：{:08d}-{:08d}\\t{}\".format( i1, i2, a[i1:i2] ) ) \n",
    "        print()"
   ]
  },
  {
   "cell_type": "code",
   "execution_count": 8,
   "metadata": {},
   "outputs": [],
   "source": [
    "def print_html(a, b, indices, filename ):\n",
    "\n",
    "    style = \"\"\"\n",
    "    <style>\n",
    "    .match { \n",
    "        color: blue;\n",
    "    }\n",
    "    </style>\n",
    "    \"\"\"\n",
    "    \n",
    "    filename = \"\"\n",
    "    handler = open(filename, 'w', encoding=\"utf-8\")\n",
    "    i = 1\n",
    "    border_size = 20\n",
    "    for ( i_b, i_e ), ( j_b, j_e)  in indices:    \n",
    "        handler.write( \"<div>\" )\n",
    "        handler.write( \"\\t<h2>{:d}</h2>\\n\".format(i) )\n",
    "        handler.write( \"\\t<p class='rtg'>TRG：{}<span class='match'>{}</span>{}</p>\".format( b[j_b-border_size:j_b], b[j_b:j_e], b[j_e:j_e+border_size] ) )\n",
    "        handler.write( \"\\t<p class='ref'>SRC：{}<span class='match'>{}</span>{}</p>\".format( a[i_b-border_size:i_b], a[i_b:i_e], a[i_e:i_e+border_size] ) )\n",
    "        handler.write( \"\\n</div>\" )\n",
    "        handler.write( \"<br><br>\")\n",
    "        i += 1\n",
    "\n",
    "    handler.write( style )\n",
    "    handler.close()"
   ]
  },
  {
   "cell_type": "code",
   "execution_count": 9,
   "metadata": {},
   "outputs": [],
   "source": [
    "def print_trg2html(trg, indices, filename, eol, color=\"random\" ):\n",
    "\n",
    "    style = \"    <style>\\n    .match {{ \\n        color: {};\\n    }}\\n    </style>\\n    \".format( color )\n",
    "    handler = open( filename, 'w', encoding=\"utf-8\")\n",
    "    \n",
    "    rst = \"\"\n",
    "    len_idx = len( indices )\n",
    "\n",
    "    r = lambda: random.randint(100,255)\n",
    "    g = lambda: random.randint(100,220)\n",
    "    b = lambda: random.randint(100,255)\n",
    "    \n",
    "    for k, ( ( i_b, i_e ), ( j_b, j_e) ) in enumerate(indices): \n",
    "\n",
    "        rgb = '#{:02x}{:02x}{:02x}'.format(r(), g(), b())\n",
    "        \n",
    "        if k != (len_idx-1):\n",
    "            last_idx = indices[k-1][1][1] if k != 0 else 0\n",
    "            comming_idx = indices[k+1][1][1] \n",
    "        \n",
    "            rst = rst +\\\n",
    "                trg[last_idx:j_b] +\\\n",
    "                \"<span class='match' id='ref{:03d}' style='color:{};'>\".format(k+1, rgb) +\\\n",
    "                trg[j_b:j_e] +\\\n",
    "                \"</span>\" +\\\n",
    "                trg[i_e:comming_idx] \n",
    "        else:\n",
    "            last_idx = indices[k-1][1][1] if k != 0 else 0\n",
    "            rst = rst +\\\n",
    "                trg[last_idx:j_b] +\\\n",
    "                \"<span class='match' id='ref{:03d}' style='color:{};'>\".format(k+1, rgb) +\\\n",
    "                trg[j_b:j_e] +\\\n",
    "                \"</span>\" +\\\n",
    "                trg[i_e:] \n",
    "    \n",
    "    if eol:\n",
    "        rst = rst.replace( eol, \"<br>\" )\n",
    "\n",
    "    handler.write( rst )\n",
    "#     handler.write( style )\n",
    "    handler.close()"
   ]
  },
  {
   "cell_type": "markdown",
   "metadata": {},
   "source": [
    "### Operate Projects"
   ]
  },
  {
   "cell_type": "code",
   "execution_count": 10,
   "metadata": {},
   "outputs": [],
   "source": [
    "def find_substrings( ref, trg, min_len=8 ):\n",
    "\n",
    "    print(\"# Texts Preprocessing\")\n",
    "    ref_han, ref_non_han = strip_nonhanzi( ref )\n",
    "    trg_han, trg_non_han = strip_nonhanzi( trg )\n",
    "    \n",
    "    ref_idx = restore_index(ref_han, ref_non_han )\n",
    "    trg_idx = restore_index(trg_han, trg_non_han )\n",
    "    \n",
    "    print(\"# Finding Similar Substrings\")\n",
    "    raw_idx = smith_waterman( ref_han, trg_han, min_len=min_len )\n",
    "    \n",
    "    print(\"# Building new indices\")\n",
    "    new_idx = []\n",
    "    for ( i_b, i_e ), ( j_b, j_e)  in raw_idx:  \n",
    "        new_idx.append( ( ( ref_idx.index( i_b ), ref_idx.index( i_e ) ), ( trg_idx.index(j_b), trg_idx.index(j_e) ) ) )\n",
    "\n",
    "    return new_idx, raw_idx"
   ]
  },
  {
   "cell_type": "code",
   "execution_count": null,
   "metadata": {},
   "outputs": [],
   "source": []
  },
  {
   "cell_type": "markdown",
   "metadata": {},
   "source": [
    "## TEST"
   ]
  },
  {
   "cell_type": "code",
   "execution_count": 11,
   "metadata": {},
   "outputs": [
    {
     "name": "stdout",
     "output_type": "stream",
     "text": [
      "* Build Matrix ... \n",
      "* Complexity: 288 (9 × 32)\n"
     ]
    },
    {
     "data": {
      "application/vnd.jupyter.widget-view+json": {
       "model_id": "77a3b94c018441e692c94d07ca827a81",
       "version_major": 2,
       "version_minor": 0
      },
      "text/plain": [
       "HBox(children=(IntProgress(value=0, max=9), HTML(value='')))"
      ]
     },
     "metadata": {},
     "output_type": "display_data"
    },
    {
     "name": "stdout",
     "output_type": "stream",
     "text": [
      "\n",
      "[[ 0  0  0  0  0  0  0  0  0  0  0  0  0  0  0  0  0  0  0  0  0  0  0  0\n",
      "   0  0  0  0  0  0  0  0  0]\n",
      " [ 0  0  3  1  0  0  0  3  3  1  3  1  0  0  0  3  3  1  3  1  0  0  0  3\n",
      "   3  1  3  1  0  0  0  3  3]\n",
      " [ 0  0  3  1  0  0  0  3  6  4  4  2  0  0  0  3  6  4  4  2  0  0  0  3\n",
      "   6  4  4  2  0  0  0  3  6]\n",
      " [ 0  3  1  6  4  2  0  1  4  9  7  7  5  3  1  1  4  9  7  7  5  3  1  1\n",
      "   4  9  7  7  5  3  1  1  4]\n",
      " [ 0  3  1  4  9  7  5  3  2  7  6 10 10  8  6  4  2  7  6 10 10  8  6  4\n",
      "   2  7  6 10 10  8  6  4  2]\n",
      " [ 0  1  6  4  7  6  4  8  6  5 10  8  8  7  5  9  7  5 10  8  8  7  5  9\n",
      "   7  5 10  8  8  7  5  9  7]\n",
      " [ 0  0  4  3  5 10  8  6  5  3  8  7  6 11  9  7  6  4  8  7  6 11  9  7\n",
      "   6  4  8  7  6 11  9  7  6]\n",
      " [ 0  0  2  1  3  8 13 11  9  7  6  5  4  9 14 12 10  8  6  5  4  9 14 12\n",
      "  10  8  6  5  4  9 14 12 10]\n",
      " [ 0  3  1  5  4  6 11 10  8 12 10  9  8  7 12 11  9 13 11  9  8  7 12 11\n",
      "   9 13 11  9  8  7 12 11  9]\n",
      " [ 0  1  0  3  2  7  9  8  7 10  9  7  6 11 10  9  8 11 10  8  6 11 10  9\n",
      "   8 11 10  8  6 11 10  9  8]]\n",
      "[[0 0 0 0 0 0 0 0 0 0 0 0 0 0 0 0 0 0 0 0 0 0 0 0 0 0 0 0 0 0 0 0 0]\n",
      " [0 0 1 3 0 0 0 1 1 3 1 3 0 0 0 1 1 3 1 3 0 0 0 1 1 3 1 3 0 0 0 1 1]\n",
      " [0 0 1 3 0 0 0 1 1 3 1 3 0 0 0 1 1 3 1 3 0 0 0 1 1 3 1 3 0 0 0 1 1]\n",
      " [0 1 2 1 1 3 0 2 2 1 3 1 1 3 3 2 2 1 3 1 1 3 3 2 2 1 3 1 1 3 3 2 2]\n",
      " [0 1 3 1 1 3 3 3 2 1 1 1 1 3 3 3 2 1 1 1 1 3 3 3 2 1 1 1 1 3 3 3 2]\n",
      " [0 2 1 3 2 1 1 1 1 2 1 2 2 1 1 1 1 2 1 2 2 1 1 1 1 2 1 2 2 1 1 1 1]\n",
      " [0 0 2 1 2 1 3 2 1 1 2 1 2 1 3 2 1 1 2 1 2 1 3 2 1 1 2 1 2 1 3 2 1]\n",
      " [0 0 2 1 2 2 1 3 3 3 2 1 1 2 1 3 3 3 2 1 1 2 1 3 3 3 2 1 1 2 1 3 3]\n",
      " [0 1 3 1 1 2 2 1 1 1 3 1 1 2 2 1 1 1 3 1 1 2 2 1 1 1 3 1 1 2 2 1 1]\n",
      " [0 2 0 2 1 1 2 1 1 2 1 1 1 1 2 1 1 2 1 1 1 1 2 1 1 2 1 1 1 1 2 1 1]]\n",
      "  ... 0.037\n",
      "\n",
      "* Traceback ... \n"
     ]
    },
    {
     "data": {
      "application/vnd.jupyter.widget-view+json": {
       "model_id": "b34095e2482941a8aae22295ec887bb1",
       "version_major": 2,
       "version_minor": 0
      },
      "text/plain": [
       "HBox(children=(IntProgress(value=0, max=258), HTML(value='')))"
      ]
     },
     "metadata": {},
     "output_type": "display_data"
    },
    {
     "name": "stdout",
     "output_type": "stream",
     "text": [
      "\n",
      "  ... 0.019\n",
      "\n",
      "* Refine outputs ... \n"
     ]
    },
    {
     "data": {
      "application/vnd.jupyter.widget-view+json": {
       "model_id": "f3b02cfcb6444616a8371d1c5c03520d",
       "version_major": 2,
       "version_minor": 0
      },
      "text/plain": [
       "HBox(children=(IntProgress(value=0, max=13), HTML(value='')))"
      ]
     },
     "metadata": {},
     "output_type": "display_data"
    },
    {
     "name": "stdout",
     "output_type": "stream",
     "text": [
      "\n",
      "  ... 0.017\n",
      "\n",
      "* Complete!\n",
      " \n",
      "GTTGAC\n",
      "GTTAC\n",
      "\n",
      "GGTTGAC\n",
      "GTGTTAC\n",
      "\n",
      "GGTTGAC\n",
      "GTGTTAC\n",
      "\n",
      "GGTTGAC\n",
      "GTGTTAC\n",
      "\n"
     ]
    }
   ],
   "source": [
    "a, b = 'GGTTGACTA', 'TGTTACGGTGTTACGGTGTTACGGTGTTACGG'\n",
    "rst = smith_waterman(a, b, min_len=4, debug=True)\n",
    "for (i1,i2), (j1,j2) in rst:\n",
    "    print( a[i1:i2])\n",
    "    print( b[j1:j2])\n",
    "    print()\n"
   ]
  },
  {
   "cell_type": "code",
   "execution_count": null,
   "metadata": {},
   "outputs": [],
   "source": []
  },
  {
   "cell_type": "markdown",
   "metadata": {},
   "source": [
    "## Experiment"
   ]
  },
  {
   "cell_type": "code",
   "execution_count": 12,
   "metadata": {},
   "outputs": [],
   "source": [
    "txt1_path = \"DATA/SOMUN.TN.txt\"\n",
    "txt2_path = \"DATA/DYBG.TN.txt\"\n",
    "\n",
    "with open(txt1_path, 'r', encoding=\"utf-8\") as fl:\n",
    "    txt1_raw = fl.readlines()\n",
    "\n",
    "with open(txt2_path, 'r', encoding=\"utf-8\") as fl:\n",
    "    txt2_raw = fl.read()"
   ]
  },
  {
   "cell_type": "code",
   "execution_count": 13,
   "metadata": {},
   "outputs": [],
   "source": [
    "ref_raw = txt2_raw\n",
    "\n",
    "chapter_n = 0\n",
    "trg_raw = txt1_raw[ chapter_n ]  # 소문 편"
   ]
  },
  {
   "cell_type": "code",
   "execution_count": 14,
   "metadata": {},
   "outputs": [
    {
     "name": "stdout",
     "output_type": "stream",
     "text": [
      "# Texts Preprocessing\n",
      "# Finding Similar Substrings\n",
      "* Build Matrix ... \n",
      "* Complexity: 7,605,939 (8,349 × 911)\n"
     ]
    },
    {
     "data": {
      "application/vnd.jupyter.widget-view+json": {
       "model_id": "b1ba22f181b34a8da40663f1148511a4",
       "version_major": 2,
       "version_minor": 0
      },
      "text/plain": [
       "HBox(children=(IntProgress(value=0, max=8349), HTML(value='')))"
      ]
     },
     "metadata": {},
     "output_type": "display_data"
    },
    {
     "name": "stdout",
     "output_type": "stream",
     "text": [
      "\n",
      "  ... 7.666\n",
      "\n",
      "* Traceback ... \n"
     ]
    },
    {
     "data": {
      "application/vnd.jupyter.widget-view+json": {
       "model_id": "26132030fad54b059e0f1fa3d08d994e",
       "version_major": 2,
       "version_minor": 0
      },
      "text/plain": [
       "HBox(children=(IntProgress(value=0, max=519183), HTML(value='')))"
      ]
     },
     "metadata": {},
     "output_type": "display_data"
    },
    {
     "name": "stdout",
     "output_type": "stream",
     "text": [
      "\n",
      "  ... 56.862\n",
      "\n",
      "* Refine outputs ... \n"
     ]
    },
    {
     "data": {
      "application/vnd.jupyter.widget-view+json": {
       "model_id": "19cdf04648ab4726b043078726bbaa39",
       "version_major": 2,
       "version_minor": 0
      },
      "text/plain": [
       "HBox(children=(IntProgress(value=0, max=386553), HTML(value='')))"
      ]
     },
     "metadata": {},
     "output_type": "display_data"
    },
    {
     "name": "stdout",
     "output_type": "stream",
     "text": [
      "\n",
      "  ... 1.208\n",
      "\n",
      "* Complete!\n",
      " \n",
      "# Building new indices\n"
     ]
    }
   ],
   "source": [
    "new_indices, raw_indices = find_substrings( ref_raw[:10000], trg_raw, min_len=8 )"
   ]
  },
  {
   "cell_type": "code",
   "execution_count": 15,
   "metadata": {},
   "outputs": [
    {
     "ename": "FileNotFoundError",
     "evalue": "[Errno 2] No such file or directory: ''",
     "output_type": "error",
     "traceback": [
      "\u001b[1;31m---------------------------------------------------------------------------\u001b[0m",
      "\u001b[1;31mFileNotFoundError\u001b[0m                         Traceback (most recent call last)",
      "\u001b[1;32m<ipython-input-15-d17f256f9b79>\u001b[0m in \u001b[0;36m<module>\u001b[1;34m\u001b[0m\n\u001b[0;32m      1\u001b[0m \u001b[1;31m# print_output(txt_ref, txt_trg, rst)\u001b[0m\u001b[1;33m\u001b[0m\u001b[1;33m\u001b[0m\u001b[1;33m\u001b[0m\u001b[0m\n\u001b[1;32m----> 2\u001b[1;33m \u001b[0mprint_html\u001b[0m\u001b[1;33m(\u001b[0m \u001b[0mref_raw\u001b[0m\u001b[1;33m,\u001b[0m \u001b[0mtrg_raw\u001b[0m\u001b[1;33m,\u001b[0m \u001b[0mnew_indices\u001b[0m\u001b[1;33m,\u001b[0m \u001b[1;34m\"OUTPUT/finder.SmithWaterman.v2.html\"\u001b[0m \u001b[1;33m)\u001b[0m\u001b[1;33m\u001b[0m\u001b[1;33m\u001b[0m\u001b[0m\n\u001b[0m",
      "\u001b[1;32m<ipython-input-8-eb9321f2521c>\u001b[0m in \u001b[0;36mprint_html\u001b[1;34m(a, b, indices, filename)\u001b[0m\n\u001b[0;32m     10\u001b[0m \u001b[1;33m\u001b[0m\u001b[0m\n\u001b[0;32m     11\u001b[0m     \u001b[0mfilename\u001b[0m \u001b[1;33m=\u001b[0m \u001b[1;34m\"\"\u001b[0m\u001b[1;33m\u001b[0m\u001b[1;33m\u001b[0m\u001b[0m\n\u001b[1;32m---> 12\u001b[1;33m     \u001b[0mhandler\u001b[0m \u001b[1;33m=\u001b[0m \u001b[0mopen\u001b[0m\u001b[1;33m(\u001b[0m\u001b[0mfilename\u001b[0m\u001b[1;33m,\u001b[0m \u001b[1;34m'w'\u001b[0m\u001b[1;33m,\u001b[0m \u001b[0mencoding\u001b[0m\u001b[1;33m=\u001b[0m\u001b[1;34m\"utf-8\"\u001b[0m\u001b[1;33m)\u001b[0m\u001b[1;33m\u001b[0m\u001b[1;33m\u001b[0m\u001b[0m\n\u001b[0m\u001b[0;32m     13\u001b[0m     \u001b[0mi\u001b[0m \u001b[1;33m=\u001b[0m \u001b[1;36m1\u001b[0m\u001b[1;33m\u001b[0m\u001b[1;33m\u001b[0m\u001b[0m\n\u001b[0;32m     14\u001b[0m     \u001b[0mborder_size\u001b[0m \u001b[1;33m=\u001b[0m \u001b[1;36m20\u001b[0m\u001b[1;33m\u001b[0m\u001b[1;33m\u001b[0m\u001b[0m\n",
      "\u001b[1;31mFileNotFoundError\u001b[0m: [Errno 2] No such file or directory: ''"
     ]
    }
   ],
   "source": [
    "# print_output(txt_ref, txt_trg, rst)\n",
    "print_html( ref_raw, trg_raw, new_indices, \"OUTPUT/finder.SmithWaterman.v2.html\" )"
   ]
  },
  {
   "cell_type": "code",
   "execution_count": null,
   "metadata": {},
   "outputs": [],
   "source": [
    "print_trg2html( trg_raw, indices[0], \"OUTPUT/SOMUN01.html\", eol=\"{n}\" )"
   ]
  },
  {
   "cell_type": "code",
   "execution_count": null,
   "metadata": {},
   "outputs": [],
   "source": []
  },
  {
   "cell_type": "markdown",
   "metadata": {},
   "source": [
    "## REF"
   ]
  },
  {
   "cell_type": "markdown",
   "metadata": {},
   "source": [
    "https://tiefenauer.github.io/blog/smith-waterman/"
   ]
  }
 ],
 "metadata": {
  "kernelspec": {
   "display_name": "Python 3",
   "language": "python",
   "name": "python3"
  },
  "language_info": {
   "codemirror_mode": {
    "name": "ipython",
    "version": 3
   },
   "file_extension": ".py",
   "mimetype": "text/x-python",
   "name": "python",
   "nbconvert_exporter": "python",
   "pygments_lexer": "ipython3",
   "version": "3.7.3"
  }
 },
 "nbformat": 4,
 "nbformat_minor": 2
}
