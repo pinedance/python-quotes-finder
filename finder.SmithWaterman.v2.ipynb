{
 "cells": [
  {
   "cell_type": "markdown",
   "metadata": {},
   "source": [
    "https://tiefenauer.github.io/blog/smith-waterman/"
   ]
  },
  {
   "cell_type": "code",
   "execution_count": 1,
   "metadata": {},
   "outputs": [],
   "source": [
    "import numpy as np\n",
    "import regex as re\n",
    "from tqdm import tqdm_notebook as tqdm\n",
    "from time import time"
   ]
  },
  {
   "cell_type": "code",
   "execution_count": 2,
   "metadata": {},
   "outputs": [],
   "source": [
    "def build_matrix(a, b, match_score=3, gap_cost=2, debug=False):  \n",
    "    \n",
    "    len_a = len(a)\n",
    "    len_b = len(b)\n",
    "    print( \"* Complexity: {:,} ({:,} × {:,})\".format( len_a * len_b, len_a, len_b ) )\n",
    "    H, P = {}, {}\n",
    "    \n",
    "    if debug:\n",
    "        H_ = np.zeros( ( len_a + 1, len_b + 1), np.int)\n",
    "        P_ = np.zeros( ( len_a + 1, len_b + 1), np.int)\n",
    "    \n",
    "    for i in range( 1, len_a+1 ):\n",
    "        for j in range( 1, len_b+1 ):\n",
    "            match = H.get( (i - 1, j - 1 ), 0 ) + ( match_score if a[i - 1] == b[j - 1] else - match_score )\n",
    "            delete = H.get( (i - 1, j ), 0 )  - gap_cost\n",
    "            insert = H.get( (i , j - 1 ), 0 )  - gap_cost\n",
    "            values = [ 0, match, delete, insert ]\n",
    "            mx = max( values )\n",
    "            if mx == 0 : continue\n",
    "            argmax = values.index( mx )\n",
    "            H[ (i, j) ] = mx\n",
    "            P[ (i, j) ] = argmax\n",
    "\n",
    "            if debug:\n",
    "                H_[i,j] = mx\n",
    "                P_[i,j] = argmax\n",
    "    \n",
    "    if debug:\n",
    "        print(H_)\n",
    "        print(P_)\n",
    "        \n",
    "    return H, P"
   ]
  },
  {
   "cell_type": "code",
   "execution_count": 3,
   "metadata": {},
   "outputs": [],
   "source": [
    "def traceback( P, xy ):\n",
    "    end_i, end_j = xy\n",
    "    \n",
    "    value = P.get( (end_i, end_j), 0 )\n",
    "    if value == 1 : new_i, new_j = end_i - 1, end_j - 1 \n",
    "    elif value == 2 : new_i, new_j = end_i - 1, end_j \n",
    "    elif value == 3 : new_i, new_j = end_i, end_j - 1 \n",
    "    else: \n",
    "        return end_i, end_j\n",
    "    return traceback( P, (new_i, new_j) )"
   ]
  },
  {
   "cell_type": "code",
   "execution_count": 4,
   "metadata": {},
   "outputs": [],
   "source": [
    "def smith_waterman(a, b, match_score=3, gap_cost=2, min_len=8, debug=False ):\n",
    "    \"\"\"\n",
    "    a : source\n",
    "    b : target\n",
    "    \"\"\"\n",
    "    cutoff = min_len * match_score\n",
    "    print( \"* Build Matrix ... \")\n",
    "    _q = time()\n",
    "    H, P = build_matrix(a, b, match_score, gap_cost, debug=debug )\n",
    "    H_lst = H.items()\n",
    "    H_sorted = sorted( H_lst, key=lambda x: ( x[1], x[0][1] ), reverse=True )\n",
    "    print( \"  ... {:0.3f}\\n\".format( time()-_q ) )\n",
    "    \n",
    "    # get all sets\n",
    "    print( \"* Traceback ... \")\n",
    "    _q = time()\n",
    "    quotes_all = []\n",
    "    for (i, j), value in tqdm(H_sorted):\n",
    "        if value < cutoff : continue\n",
    "        end_i, end_j = i, j\n",
    "        begin_i, begin_j = traceback( P, (end_i, end_j) )\n",
    "        quotes_all.append( ( (begin_i, end_i), (begin_j, end_j) ) )     # string[begin:end]\n",
    "    print( \"  ... {:0.3f}\\n\".format( time()-_q ) )\n",
    "    \n",
    "    # remove overlap ranges\n",
    "    print( \"* Refine outputs ... \")\n",
    "    _q = time()\n",
    "    occupation = [0] * (len(b) + 1)\n",
    "    quotes = []\n",
    "    for elem in tqdm(quotes_all):\n",
    "        (_, _), (b_j, e_j) = elem\n",
    "        if sum( occupation[b_j:e_j] ) > 0: continue\n",
    "        quotes.append( elem )\n",
    "        occupation[b_j:e_j] = [1] * ( e_j - b_j )\n",
    "    print( \"  ... {:0.3f}\\n\".format( time()-_q ) )\n",
    "    print( \"* Complete!\\n \")\n",
    "    return sorted( quotes, key=lambda x: x[1][0] )"
   ]
  },
  {
   "cell_type": "code",
   "execution_count": 5,
   "metadata": {},
   "outputs": [],
   "source": [
    "def print_output(a, b, indices ):\n",
    "    \n",
    "    for (i1,i2), (j1,j2) in indices:\n",
    "        print( \"TRG：{:08d}-{:08d}\\t{}\".format( j1, j2, b[j1:j2] ) )\n",
    "        print( \"SRC：{:08d}-{:08d}\\t{}\".format( i1, i2, a[i1:i2] ) ) \n",
    "        print()"
   ]
  },
  {
   "cell_type": "code",
   "execution_count": 6,
   "metadata": {},
   "outputs": [],
   "source": [
    "def print_html(a, b, indices ):\n",
    "\n",
    "    style = \"\"\"\n",
    "    <style>\n",
    "    .match { \n",
    "        color: blue;\n",
    "    }\n",
    "    </style>\n",
    "\n",
    "    \"\"\"\n",
    "\n",
    "    handler = open(\"finder.SmithWaterman.v2.html\", 'w', encoding=\"utf-8\")\n",
    "    i = 1\n",
    "    border_size = 20\n",
    "    for ( i_b, i_e ), ( j_b, j_e)  in indices:    \n",
    "        handler.write( \"<div>\" )\n",
    "        handler.write( \"\\t<h2>{:d}</h2>\\n\".format(i) )\n",
    "        handler.write( \"\\t<p class='rtg'>{}<span class='match'>{}</span>{}</p>\".format( b[j_b-border_size:j_b], b[j_b:j_e], b[j_e:j_e+border_size] ) )\n",
    "        handler.write( \"\\t<p class='ref'>{}<span class='match'>{}</span>{}</p>\".format( a[i_b-border_size:i_b], a[i_b:i_e], a[i_e:i_e+border_size] ) )\n",
    "        handler.write( \"\\n</div>\" )\n",
    "        handler.write( \"<br><br>\")\n",
    "        i += 1\n",
    "\n",
    "    handler.write( style )\n",
    "    handler.close()"
   ]
  },
  {
   "cell_type": "code",
   "execution_count": 7,
   "metadata": {},
   "outputs": [],
   "source": [
    "def get_texts( ref_raw, trg_raw ):\n",
    "\n",
    "    # hanzi 범위\n",
    "    cjk_range = \"[\\p{Han}]\"\n",
    "    cjk_range_re = re.compile( cjk_range, re.UNICODE)\n",
    "\n",
    "    # hanzi 추출\n",
    "    ref = \"\".join( re.findall( cjk_range_re, ref_raw  ) ) \n",
    "    trg = \"\".join( re.findall( cjk_range_re, trg_raw  ) ) \n",
    "\n",
    "    return ref, trg"
   ]
  },
  {
   "cell_type": "code",
   "execution_count": null,
   "metadata": {},
   "outputs": [],
   "source": []
  },
  {
   "cell_type": "markdown",
   "metadata": {},
   "source": [
    "## TEST"
   ]
  },
  {
   "cell_type": "code",
   "execution_count": 8,
   "metadata": {},
   "outputs": [
    {
     "name": "stdout",
     "output_type": "stream",
     "text": [
      "* Build Matrix ... \n",
      "* Complexity: 288 (9 × 32)\n",
      "[[ 0  0  0  0  0  0  0  0  0  0  0  0  0  0  0  0  0  0  0  0  0  0  0  0\n",
      "   0  0  0  0  0  0  0  0  0]\n",
      " [ 0  0  3  1  0  0  0  3  3  1  3  1  0  0  0  3  3  1  3  1  0  0  0  3\n",
      "   3  1  3  1  0  0  0  3  3]\n",
      " [ 0  0  3  1  0  0  0  3  6  4  4  2  0  0  0  3  6  4  4  2  0  0  0  3\n",
      "   6  4  4  2  0  0  0  3  6]\n",
      " [ 0  3  1  6  4  2  0  1  4  9  7  7  5  3  1  1  4  9  7  7  5  3  1  1\n",
      "   4  9  7  7  5  3  1  1  4]\n",
      " [ 0  3  1  4  9  7  5  3  2  7  6 10 10  8  6  4  2  7  6 10 10  8  6  4\n",
      "   2  7  6 10 10  8  6  4  2]\n",
      " [ 0  1  6  4  7  6  4  8  6  5 10  8  8  7  5  9  7  5 10  8  8  7  5  9\n",
      "   7  5 10  8  8  7  5  9  7]\n",
      " [ 0  0  4  3  5 10  8  6  5  3  8  7  6 11  9  7  6  4  8  7  6 11  9  7\n",
      "   6  4  8  7  6 11  9  7  6]\n",
      " [ 0  0  2  1  3  8 13 11  9  7  6  5  4  9 14 12 10  8  6  5  4  9 14 12\n",
      "  10  8  6  5  4  9 14 12 10]\n",
      " [ 0  3  1  5  4  6 11 10  8 12 10  9  8  7 12 11  9 13 11  9  8  7 12 11\n",
      "   9 13 11  9  8  7 12 11  9]\n",
      " [ 0  1  0  3  2  7  9  8  7 10  9  7  6 11 10  9  8 11 10  8  6 11 10  9\n",
      "   8 11 10  8  6 11 10  9  8]]\n",
      "[[0 0 0 0 0 0 0 0 0 0 0 0 0 0 0 0 0 0 0 0 0 0 0 0 0 0 0 0 0 0 0 0 0]\n",
      " [0 0 1 3 0 0 0 1 1 3 1 3 0 0 0 1 1 3 1 3 0 0 0 1 1 3 1 3 0 0 0 1 1]\n",
      " [0 0 1 3 0 0 0 1 1 3 1 3 0 0 0 1 1 3 1 3 0 0 0 1 1 3 1 3 0 0 0 1 1]\n",
      " [0 1 2 1 1 3 0 2 2 1 3 1 1 3 3 2 2 1 3 1 1 3 3 2 2 1 3 1 1 3 3 2 2]\n",
      " [0 1 3 1 1 3 3 3 2 1 1 1 1 3 3 3 2 1 1 1 1 3 3 3 2 1 1 1 1 3 3 3 2]\n",
      " [0 2 1 3 2 1 1 1 1 2 1 2 2 1 1 1 1 2 1 2 2 1 1 1 1 2 1 2 2 1 1 1 1]\n",
      " [0 0 2 1 2 1 3 2 1 1 2 1 2 1 3 2 1 1 2 1 2 1 3 2 1 1 2 1 2 1 3 2 1]\n",
      " [0 0 2 1 2 2 1 3 3 3 2 1 1 2 1 3 3 3 2 1 1 2 1 3 3 3 2 1 1 2 1 3 3]\n",
      " [0 1 3 1 1 2 2 1 1 1 3 1 1 2 2 1 1 1 3 1 1 2 2 1 1 1 3 1 1 2 2 1 1]\n",
      " [0 2 0 2 1 1 2 1 1 2 1 1 1 1 2 1 1 2 1 1 1 1 2 1 1 2 1 1 1 1 2 1 1]]\n",
      "  ... 0.004\n",
      "\n",
      "* Traceback ... \n"
     ]
    },
    {
     "data": {
      "application/vnd.jupyter.widget-view+json": {
       "model_id": "01e22c4bb80b434596883ca4d113edd2",
       "version_major": 2,
       "version_minor": 0
      },
      "text/plain": [
       "HBox(children=(IntProgress(value=0, max=258), HTML(value='')))"
      ]
     },
     "metadata": {},
     "output_type": "display_data"
    },
    {
     "name": "stdout",
     "output_type": "stream",
     "text": [
      "\n",
      "  ... 0.020\n",
      "\n",
      "* Refine outputs ... \n"
     ]
    },
    {
     "data": {
      "application/vnd.jupyter.widget-view+json": {
       "model_id": "c86dd8c49f684621adc08901f24c9a5a",
       "version_major": 2,
       "version_minor": 0
      },
      "text/plain": [
       "HBox(children=(IntProgress(value=0, max=13), HTML(value='')))"
      ]
     },
     "metadata": {},
     "output_type": "display_data"
    },
    {
     "name": "stdout",
     "output_type": "stream",
     "text": [
      "\n",
      "  ... 0.012\n",
      "\n",
      "* Complete!\n",
      " \n",
      "GTTGAC\n",
      "GTTAC\n",
      "\n",
      "GGTTGAC\n",
      "GTGTTAC\n",
      "\n",
      "GGTTGAC\n",
      "GTGTTAC\n",
      "\n",
      "GGTTGAC\n",
      "GTGTTAC\n",
      "\n"
     ]
    }
   ],
   "source": [
    "a, b = 'GGTTGACTA', 'TGTTACGGTGTTACGGTGTTACGGTGTTACGG'\n",
    "rst = smith_waterman(a, b, min_len=4, debug=True)\n",
    "for (i1,i2), (j1,j2) in rst:\n",
    "    print( a[i1:i2])\n",
    "    print( b[j1:j2])\n",
    "    print()\n"
   ]
  },
  {
   "cell_type": "code",
   "execution_count": null,
   "metadata": {},
   "outputs": [],
   "source": []
  },
  {
   "cell_type": "markdown",
   "metadata": {},
   "source": [
    "## Experiment"
   ]
  },
  {
   "cell_type": "code",
   "execution_count": 9,
   "metadata": {},
   "outputs": [],
   "source": [
    "txt_ref_path = \"DATA/SOMUN.TN.txt\"\n",
    "txt_trg_path = \"DATA/DYBG.TN.txt\"\n",
    "\n",
    "with open(txt_ref_path, 'r', encoding=\"utf-8\") as fl:\n",
    "    ref_raw = fl.readlines()\n",
    "\n",
    "with open(txt_trg_path, 'r', encoding=\"utf-8\") as fl:\n",
    "    trg_raw = fl.read()"
   ]
  },
  {
   "cell_type": "code",
   "execution_count": 10,
   "metadata": {},
   "outputs": [],
   "source": [
    "chapter_n = 0\n",
    "ref, trg = get_texts( ref_raw[ chapter_n ], trg_raw )\n",
    "# 황제내경 81편 중 n번째"
   ]
  },
  {
   "cell_type": "code",
   "execution_count": 11,
   "metadata": {},
   "outputs": [
    {
     "name": "stdout",
     "output_type": "stream",
     "text": [
      "* Build Matrix ... \n",
      "* Complexity: 793061940 (911 × 870540)\n",
      "  ... 890.414\n",
      "\n",
      "* Traceback ... \n"
     ]
    },
    {
     "data": {
      "application/vnd.jupyter.widget-view+json": {
       "model_id": "8832c7c2bac549d983db4d8fa7192287",
       "version_major": 2,
       "version_minor": 0
      },
      "text/plain": [
       "HBox(children=(IntProgress(value=0, max=7064517), HTML(value='')))"
      ]
     },
     "metadata": {},
     "output_type": "display_data"
    },
    {
     "name": "stdout",
     "output_type": "stream",
     "text": [
      "\n",
      "  ... 68.607\n",
      "\n",
      "* Refine outputs ... \n"
     ]
    },
    {
     "data": {
      "application/vnd.jupyter.widget-view+json": {
       "model_id": "d5f3ee55d18a4d06a9a23be9853678cf",
       "version_major": 2,
       "version_minor": 0
      },
      "text/plain": [
       "HBox(children=(IntProgress(value=0, max=387321), HTML(value='')))"
      ]
     },
     "metadata": {},
     "output_type": "display_data"
    },
    {
     "name": "stdout",
     "output_type": "stream",
     "text": [
      "\n",
      "  ... 1.339\n",
      "\n",
      "* Complete!\n",
      " \n"
     ]
    }
   ],
   "source": [
    "rst = smith_waterman( ref, trg, min_len=8)"
   ]
  },
  {
   "cell_type": "code",
   "execution_count": 13,
   "metadata": {},
   "outputs": [],
   "source": [
    "print_html( ref, trg, rst)"
   ]
  },
  {
   "cell_type": "code",
   "execution_count": null,
   "metadata": {},
   "outputs": [],
   "source": [
    "# print_output(txt_ref, txt_trg, rst)"
   ]
  },
  {
   "cell_type": "code",
   "execution_count": null,
   "metadata": {},
   "outputs": [],
   "source": []
  },
  {
   "cell_type": "code",
   "execution_count": null,
   "metadata": {},
   "outputs": [],
   "source": []
  }
 ],
 "metadata": {
  "kernelspec": {
   "display_name": "Python 3",
   "language": "python",
   "name": "python3"
  },
  "language_info": {
   "codemirror_mode": {
    "name": "ipython",
    "version": 3
   },
   "file_extension": ".py",
   "mimetype": "text/x-python",
   "name": "python",
   "nbconvert_exporter": "python",
   "pygments_lexer": "ipython3",
   "version": "3.7.3"
  }
 },
 "nbformat": 4,
 "nbformat_minor": 2
}
