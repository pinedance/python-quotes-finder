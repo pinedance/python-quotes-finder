{
 "cells": [
  {
   "cell_type": "markdown",
   "metadata": {},
   "source": [
    "https://tiefenauer.github.io/blog/smith-waterman/"
   ]
  },
  {
   "cell_type": "code",
   "execution_count": 24,
   "metadata": {},
   "outputs": [],
   "source": [
    "import itertools\n",
    "import numpy as np\n",
    "\n",
    "def build_matrix(a, b, match_score=3, gap_cost=2):\n",
    "    H = np.zeros((len(a) + 1, len(b) + 1), np.int)\n",
    "\n",
    "    for i, j in itertools.product(range(1, H.shape[0]), range(1, H.shape[1])):\n",
    "        match = H[i - 1, j - 1] + (match_score if a[i - 1] == b[j - 1] else - match_score)\n",
    "        delete = H[i - 1, j] - gap_cost\n",
    "        insert = H[i, j - 1] - gap_cost\n",
    "        H[i, j] = max(match, delete, insert, 0)\n",
    "    return H"
   ]
  },
  {
   "cell_type": "code",
   "execution_count": 25,
   "metadata": {},
   "outputs": [],
   "source": [
    "def traceback(H, b, b_='', old_i=0):\n",
    "    # flip H to get index of **last** occurrence of H.max() with np.argmax()\n",
    "    H_flip = np.flip(np.flip(H, 0), 1)\n",
    "    i_, j_ = np.unravel_index(H_flip.argmax(), H_flip.shape)\n",
    "    i, j = np.subtract(H.shape, (i_ + 1, j_ + 1))  # (i, j) are **last** indexes of H.max()\n",
    "    if H[i, j] == 0:\n",
    "        return b_, j\n",
    "    b_ = b[j - 1] + '-' + b_ if old_i - i > 1 else b[j - 1] + b_\n",
    "    return traceback(H[0:i, 0:j], b, b_, i)\n"
   ]
  },
  {
   "cell_type": "code",
   "execution_count": 26,
   "metadata": {},
   "outputs": [],
   "source": [
    "def smith_waterman(a, b, match_score=3, gap_cost=2):\n",
    "    H = build_matrix(a, b, match_score, gap_cost)\n",
    "    b_, pos = traceback(H, b)\n",
    "    return pos, pos + len(b_)"
   ]
  },
  {
   "cell_type": "code",
   "execution_count": 27,
   "metadata": {},
   "outputs": [
    {
     "name": "stdout",
     "output_type": "stream",
     "text": [
      "[[ 0  0  0  0  0  0  0  0  0]\n",
      " [ 0  0  3  1  0  0  0  3  3]\n",
      " [ 0  0  3  1  0  0  0  3  6]\n",
      " [ 0  3  1  6  4  2  0  1  4]\n",
      " [ 0  3  1  4  9  7  5  3  2]\n",
      " [ 0  1  6  4  7  6  4  8  6]\n",
      " [ 0  0  4  3  5 10  8  6  5]\n",
      " [ 0  0  2  1  3  8 13 11  9]\n",
      " [ 0  3  1  5  4  6 11 10  8]\n",
      " [ 0  1  0  3  2  7  9  8  7]]\n",
      "('gtt-ac', 1)\n",
      "GTTGAC\n"
     ]
    }
   ],
   "source": [
    "    # prints correct scoring matrix from Wikipedia example\n",
    "    print(build_matrix('GGTTGACTA', 'TGTTACGG'))\n",
    "\n",
    "    a, b = 'ggttgacta', 'tgttacgg'\n",
    "    H = build_matrix(a, b)\n",
    "    print(traceback(H, b)) # ('gtt-ac', 1)\n",
    "\n",
    "    a, b = 'GGTTGACTA', 'TGTTACGG'\n",
    "    start, end = smith_waterman(a, b)\n",
    "    print(a[start:end])     # GTTGAC"
   ]
  },
  {
   "cell_type": "code",
   "execution_count": 28,
   "metadata": {},
   "outputs": [],
   "source": [
    "from difflib import SequenceMatcher\n",
    "import regex as re\n",
    "from tqdm import tqdm_notebook as tqdm"
   ]
  },
  {
   "cell_type": "code",
   "execution_count": 29,
   "metadata": {},
   "outputs": [],
   "source": [
    "txt_ref_path = \"DATA/SOMUN.TN.txt\"\n",
    "txt_trg_path = \"DATA/DYBG.TN.txt\"\n",
    "\n",
    "with open(txt_ref_path, 'r', encoding=\"utf-8\") as fl:\n",
    "    txt_ref_raw = fl.read()\n",
    "\n",
    "with open(txt_trg_path, 'r', encoding=\"utf-8\") as fl:\n",
    "    txt_trg_raw = fl.read()"
   ]
  },
  {
   "cell_type": "code",
   "execution_count": 30,
   "metadata": {},
   "outputs": [],
   "source": [
    "# hanzi 범위\n",
    "cjk_range = \"[\\p{Han}]\"\n",
    "cjk_range_re = re.compile( cjk_range, re.UNICODE)\n",
    "\n",
    "# hanzi 추출\n",
    "txt_ref = \"\".join( re.findall( cjk_range_re, txt_ref_raw  ) )[10000:30000]\n",
    "txt_trg = \"\".join( re.findall( cjk_range_re, txt_trg_raw  ) )[500000:510000]\n",
    "\n",
    "txt_ref_len = len( txt_ref )\n",
    "txt_trg_len = len( txt_trg )"
   ]
  },
  {
   "cell_type": "code",
   "execution_count": 31,
   "metadata": {},
   "outputs": [],
   "source": [
    "start, end = smith_waterman(txt_ref, txt_trg)"
   ]
  },
  {
   "cell_type": "code",
   "execution_count": 32,
   "metadata": {},
   "outputs": [
    {
     "name": "stdout",
     "output_type": "stream",
     "text": [
      "治之極於一帝曰何謂一歧伯曰一者因得之帝曰奈何歧伯曰閉戶塞牖繫之病者數問其情以從其意得神者昌失神者亡帝曰善湯液醪醴論篇第十四黃帝問曰爲五穀湯液及醪醴奈何歧伯對曰必\n"
     ]
    }
   ],
   "source": [
    "print(txt_ref[start:end]) "
   ]
  },
  {
   "cell_type": "code",
   "execution_count": null,
   "metadata": {},
   "outputs": [],
   "source": [
    "x = \"以夜行則喘出於腎淫氣病肺有所墮恐喘出於肝淫氣害AAABBB於肺淫氣傷心度水跌仆喘出於腎與骨當是之時勇者氣行則已怯者則着而爲病也故\"\n",
    "y = \"人夜行則喘出於腎淫氣病肺有所墮恐喘出於肝淫氣害脾有所驚恐喘出於肺淫氣傷心渡水跌AAABBB當是之時勇者氣行則已怯者着而爲病也內\"\n",
    "start, end = smith_waterman(x, y)"
   ]
  },
  {
   "cell_type": "code",
   "execution_count": 23,
   "metadata": {},
   "outputs": [
    {
     "name": "stdout",
     "output_type": "stream",
     "text": [
      "夜行則喘出於腎淫氣病肺有所墮恐喘出於肝淫氣害AAABBB於肺淫氣傷心度水跌\n"
     ]
    }
   ],
   "source": [
    "print(x[start:end]) "
   ]
  },
  {
   "cell_type": "code",
   "execution_count": null,
   "metadata": {},
   "outputs": [],
   "source": []
  }
 ],
 "metadata": {
  "kernelspec": {
   "display_name": "Python 3",
   "language": "python",
   "name": "python3"
  },
  "language_info": {
   "codemirror_mode": {
    "name": "ipython",
    "version": 3
   },
   "file_extension": ".py",
   "mimetype": "text/x-python",
   "name": "python",
   "nbconvert_exporter": "python",
   "pygments_lexer": "ipython3",
   "version": "3.7.3"
  }
 },
 "nbformat": 4,
 "nbformat_minor": 2
}
